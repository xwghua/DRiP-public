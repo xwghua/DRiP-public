{
 "cells": [
  {
   "cell_type": "code",
   "execution_count": 16,
   "metadata": {
    "collapsed": false
   },
   "outputs": [],
   "source": [
    "import numpy as np\n",
    "import matplotlib.pyplot as plt\n",
    "from scipy.stats import multivariate_normal as mvn\n",
    "import sys, time\n",
    "#import seaborn as sns"
   ]
  },
  {
   "cell_type": "code",
   "execution_count": 2,
   "metadata": {
    "collapsed": false
   },
   "outputs": [
    {
     "name": "stdout",
     "output_type": "stream",
     "text": [
      "The program begins...\n",
      "Parameters initialized!\n"
     ]
    }
   ],
   "source": [
    "print('The program begins...')\n",
    "## set parameters\n",
    "wavelength = 633E-9               # wave length = 670 nm // equipped with red fluorescence\n",
    "k = 2*np.pi/wavelength\n",
    "focus = 200*10^-3            # the focus of lens after the ring mask\n",
    "# *********************************\n",
    "Rav1 = 200\n",
    "dR1 = 50\n",
    "R1 = Rav1-dR1/2\n",
    "R2 = Rav1+dR1/2\n",
    "# *********************************\n",
    "Rav2 = 400\n",
    "dR2 = 100\n",
    "R3 = Rav2-dR2/2\n",
    "R4 = Rav2+dR2/2\n",
    "print('Parameters initialized!')"
   ]
  },
  {
   "cell_type": "code",
   "execution_count": 3,
   "metadata": {
    "collapsed": false,
    "scrolled": false
   },
   "outputs": [
    {
     "data": {
      "image/png": "[encoded data removed]",
      "text/plain": [
       "<matplotlib.figure.Figure at 0x1a90a8f60f0>"
      ]
     },
     "metadata": {},
     "output_type": "display_data"
    },
    {
     "data": {
      "image/png": "[encoded data removed]",
      "text/plain": [
       "<matplotlib.figure.Figure at 0x1a90a916f28>"
      ]
     },
     "metadata": {},
     "output_type": "display_data"
    },
    {
     "data": {
      "image/png": "[encoded data removed]",
      "text/plain": [
       "<matplotlib.figure.Figure at 0x1a90b268d30>"
      ]
     },
     "metadata": {},
     "output_type": "display_data"
    }
   ],
   "source": [
    "## set bead\n",
    "x = np.linspace(-85,85,1700)\n",
    "y = np.linspace(-85,85,1700)\n",
    "[X,Y] = np.meshgrid(x,y)\n",
    "XY = np.column_stack([X.flat, Y.flat])\n",
    "#print('len(X)=',len(X),'\\nlen(Y)=',len(Y))\n",
    "mu = np.array([0,0])\n",
    "sigma = np.array([[0.5**2,0],[0,0.5**2]])\n",
    "dist = mvn.pdf(XY,mu,sigma)\n",
    "bead = dist.reshape(X.shape)\n",
    "\n",
    "## set ring mask \n",
    "magnitude = 80\n",
    "rho = np.sqrt((X*magnitude)**2+(Y*magnitude)**2)\n",
    "tA = 1*((rho>=R1)*(rho<=R2)+(rho>=R3)*(rho<=R4))\n",
    "\n",
    "## propagation\n",
    "ipt = np.fft.fftshift(np.fft.fft2(np.fft.fftshift(bead)))\n",
    "int_ipt = (np.abs(ipt))**2\n",
    "int_ipt = int_ipt/np.max(int_ipt)\n",
    "\n",
    "## STOP\n",
    "r_stop = 2*1.45/np.sqrt(1.515**2-1.45**2)*1000\n",
    "stop = 1*((np.sqrt((X*magnitude)**2+(Y*magnitude)**2))<=r_stop)\n",
    "\n",
    "## propagation 2\n",
    "opt = np.fft.fftshift(np.fft.fft2(np.fft.fftshift(ipt*tA*stop)))\n",
    "int_opt = (np.abs(opt))**2\n",
    "int_opt = int_opt/np.max(int_opt)\n",
    "## plotting ############################################\n",
    "plt.figure()\n",
    "plt.subplot(1,2,1),plt.imshow(bead,cmap=plt.cm.hot)\n",
    "plt.subplot(1,2,2),plt.imshow(int_ipt,cmap=plt.cm.hot)\n",
    "plt.show()\n",
    "\n",
    "plt.figure()\n",
    "plt.subplot(1,2,1),plt.imshow(tA,cmap=plt.cm.hot)\n",
    "#plt.subplot(1,2,2),plt.imshow(int_opt,cmap=plt.cm.hot)\n",
    "plt.show()\n",
    "\n",
    "plt.figure()\n",
    "plt.imshow(int_opt,cmap=plt.cm.hot)\n",
    "plt.show()"
   ]
  },
  {
   "cell_type": "code",
   "execution_count": 13,
   "metadata": {
    "collapsed": false
   },
   "outputs": [
    {
     "name": "stderr",
     "output_type": "stream",
     "text": [
      "C:\\Users\\xuanwen\\Anaconda3\\lib\\site-packages\\skimage\\io\\_io.py:132: UserWarning: psf.bmp is a low contrast image\n",
      "  warn('%s is a low contrast image' % fname)\n",
      "C:\\Users\\xuanwen\\Anaconda3\\lib\\site-packages\\skimage\\util\\dtype.py:110: UserWarning: Possible precision loss when converting from float64 to uint8\n",
      "  \"%s to %s\" % (dtypeobj_in, dtypeobj))\n"
     ]
    }
   ],
   "source": [
    "## save images to files\n",
    "from skimage import io\n",
    "io.imsave('psf.bmp',int_opt)"
   ]
  },
  {
   "cell_type": "code",
   "execution_count": 19,
   "metadata": {
    "collapsed": false
   },
   "outputs": [
    {
     "name": "stderr",
     "output_type": "stream",
     "text": [
      "100% (1000 of 1000) |#############################################################| Elapsed Time: 0:00:13 Time: 0:00:13\n",
      "100% (100 of 100) |###############################################################| Elapsed Time: 0:00:12 Time: 0:00:12\n",
      "Progress:   2% |>                                                                            | ETA: 0:47:13   3.3 KiB/s"
     ]
    },
    {
     "ename": "KeyboardInterrupt",
     "evalue": "",
     "output_type": "error",
     "traceback": [
      "\u001b[0;31m---------------------------------------------------------------------------\u001b[0m",
      "\u001b[0;31mKeyboardInterrupt\u001b[0m                         Traceback (most recent call last)",
      "\u001b[0;32m<ipython-input-19-133aca6878c8>\u001b[0m in \u001b[0;36m<module>\u001b[0;34m()\u001b[0m\n\u001b[1;32m     21\u001b[0m \u001b[1;32mfor\u001b[0m \u001b[0mi\u001b[0m \u001b[1;32min\u001b[0m \u001b[0mrange\u001b[0m\u001b[1;33m(\u001b[0m\u001b[1;36m1000000\u001b[0m\u001b[1;33m)\u001b[0m\u001b[1;33m:\u001b[0m\u001b[1;33m\u001b[0m\u001b[0m\n\u001b[1;32m     22\u001b[0m     \u001b[0mpbar\u001b[0m\u001b[1;33m.\u001b[0m\u001b[0mupdate\u001b[0m\u001b[1;33m(\u001b[0m\u001b[1;36m10\u001b[0m\u001b[1;33m*\u001b[0m\u001b[0mi\u001b[0m\u001b[1;33m+\u001b[0m\u001b[1;36m1\u001b[0m\u001b[1;33m)\u001b[0m\u001b[1;33m\u001b[0m\u001b[0m\n\u001b[0;32m---> 23\u001b[0;31m     \u001b[0mtime\u001b[0m\u001b[1;33m.\u001b[0m\u001b[0msleep\u001b[0m\u001b[1;33m(\u001b[0m\u001b[1;36m0.0001\u001b[0m\u001b[1;33m)\u001b[0m\u001b[1;33m\u001b[0m\u001b[0m\n\u001b[0m\u001b[1;32m     24\u001b[0m \u001b[0mpbar\u001b[0m\u001b[1;33m.\u001b[0m\u001b[0mfinish\u001b[0m\u001b[1;33m(\u001b[0m\u001b[1;33m)\u001b[0m\u001b[1;33m\u001b[0m\u001b[0m\n",
      "\u001b[0;31mKeyboardInterrupt\u001b[0m: "
     ]
    }
   ],
   "source": [
    "from __future__ import division\n",
    " \n",
    "#import sys,time\n",
    "from progressbar import *\n",
    "total = 1000\n",
    " \n",
    "#基本用法\n",
    "progress = ProgressBar()\n",
    "for i in progress(range(total)):\n",
    "    time.sleep(0.01)\n",
    "pbar = ProgressBar().start()\n",
    "for i in range(1,1000):\n",
    "    pbar.update(int((i/(total-1))*100))\n",
    "    time.sleep(0.01)\n",
    "pbar.finish()\n",
    " \n",
    "#高级用法\n",
    "widgets = ['Progress: ', Percentage(), ' ', Bar(marker=RotatingMarker('>-=')),\n",
    "           ' ', ETA(), ' ', FileTransferSpeed()]\n",
    "pbar = ProgressBar(widgets=widgets, maxval=10000000).start()\n",
    "for i in range(1000000):\n",
    "    pbar.update(10*i+1)\n",
    "    time.sleep(0.0001)\n",
    "pbar.finish()"
   ]
  }
 ],
 "metadata": {
  "anaconda-cloud": {},
  "kernelspec": {
   "display_name": "Python [default]",
   "language": "python",
   "name": "python3"
  },
  "language_info": {
   "codemirror_mode": {
    "name": "ipython",
    "version": 3
   },
   "file_extension": ".py",
   "mimetype": "text/x-python",
   "name": "python",
   "nbconvert_exporter": "python",
   "pygments_lexer": "ipython3",
   "version": "3.5.2"
  }
 },
 "nbformat": 4,
 "nbformat_minor": 2
}
