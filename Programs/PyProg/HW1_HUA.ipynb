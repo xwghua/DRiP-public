{
 "cells": [
  {
   "cell_type": "markdown",
   "metadata": {},
   "source": [
    "Homework 1\n",
    "Please use the function readcorr to read data from the files that start with BR00781 and calculate the average and the std for each time point. Remember that corr_fcts[0] represents the time, and corr_fcts[1] is the correlation function. \n",
    "\n",
    "You need to average over the 20 data sets for each time point. \n",
    "\n",
    "At the end you should have three 1-dimensional arrays: time, corravg, and corrstd. You then just need to uncomment the last cell and create a semilog plot with error bars.\n",
    "\n",
    "Below, I included some hint on how to solve the problem. For example, I show how to obtain a list of filenames that you can loop through to read all the data.\n",
    "Good luck"
   ]
  },
  {
   "cell_type": "code",
   "execution_count": 2,
   "metadata": {
    "collapsed": true
   },
   "outputs": [],
   "source": [
    "import os\n",
    "import numpy as np\n",
    "import matplotlib.pyplot as plt"
   ]
  },
  {
   "cell_type": "code",
   "execution_count": 3,
   "metadata": {
    "collapsed": true
   },
   "outputs": [],
   "source": [
    "def readcorr(filename):\n",
    "    with open(filename,'r') as f:\n",
    "        for line in f:\n",
    "            if line.startswith(\"[Corr\"):\n",
    "                break\n",
    "        corr_fcts=[]\n",
    "        for line in f:\n",
    "            if line.startswith(\"[Raw\"):\n",
    "                break\n",
    "            corr_fcts.append([float(a) for a in line.split()])\n",
    "    corr_fcts = np.array(corr_fcts[:-1]).T\n",
    "    return corr_fcts"
   ]
  },
  {
   "cell_type": "code",
   "execution_count": 4,
   "metadata": {
    "collapsed": false
   },
   "outputs": [
    {
     "name": "stdout",
     "output_type": "stream",
     "text": [
      "C:\\Users\\xuanwen\\Google Drive\\SBU_Academic\\2017 spring\\BME502 Adv. Num. Analysis\\BME502-2017-master\n"
     ]
    },
    {
     "data": {
      "text/plain": [
       "['BR00781_01.sin',\n",
       " 'BR00781_02.sin',\n",
       " 'BR00781_03.sin',\n",
       " 'BR00781_04.sin',\n",
       " 'BR00781_05.sin',\n",
       " 'BR00781_06.sin',\n",
       " 'BR00781_07.sin',\n",
       " 'BR00781_08.sin',\n",
       " 'BR00781_09.sin',\n",
       " 'BR00781_10.sin',\n",
       " 'BR00781_11.sin',\n",
       " 'BR00781_12.sin',\n",
       " 'BR00781_13.sin',\n",
       " 'BR00781_14.sin',\n",
       " 'BR00781_15.sin',\n",
       " 'BR00781_16.sin',\n",
       " 'BR00781_17.sin',\n",
       " 'BR00781_18.sin',\n",
       " 'BR00781_19.sin',\n",
       " 'BR00781_20.sin']"
      ]
     },
     "execution_count": 4,
     "metadata": {},
     "output_type": "execute_result"
    }
   ],
   "source": [
    "# get current working directory\n",
    "print(os.getcwd())\n",
    "#defines the location of the data\n",
    "datadir='data files/'\n",
    "# get a list of files in this directory\n",
    "filelist=os.listdir(datadir)\n",
    "#print(filelist)\n",
    "# create a list of files starting with \"BR00781\"\n",
    "BR00781_list = [file for file in filelist if file.startswith(\"BR00781\")]\n",
    "BR00781_list"
   ]
  },
  {
   "cell_type": "code",
   "execution_count": 5,
   "metadata": {
    "collapsed": false,
    "scrolled": true
   },
   "outputs": [],
   "source": [
    "# My Code\n",
    "corr_fcts = readcorr(\"data files/BR00781_01.sin\")\n",
    "time=corr_fcts[0]\n",
    "timeshort=time[(time>1e-7) & (time<0.01)]\n",
    "corr_fcts=[]\n",
    "corravg=[]\n",
    "corrstd=[]\n",
    "#print(\"time\",time)\n",
    "#print(\"data\",data)\n",
    "for file in BR00781_list:\n",
    "    corr_fcts_temp = readcorr(\"data files/\"+file)\n",
    "    corr_fcts_temp = corr_fcts_temp[1]\n",
    "    corr_fcts_temp = corr_fcts_temp[(time>1e-7) & (time<0.01)]\n",
    "    corr_fcts.append(corr_fcts_temp)\n",
    "corr_fcts = np.array(corr_fcts).T\n",
    "for timepoint in range(len(timeshort)):\n",
    "    corravg.append(np.mean(corr_fcts[timepoint]))\n",
    "    corrstd.append(np.std(corr_fcts[timepoint]))"
   ]
  },
  {
   "cell_type": "code",
   "execution_count": 6,
   "metadata": {
    "collapsed": true
   },
   "outputs": [],
   "source": [
    "%matplotlib inline\n",
    "#plt.figure()\n",
    "#plt.errorbar(time,corravg,yerr=corrstd,fmt=\"or\")\n",
    "#plt.xscale(\"log\")\n",
    "#plt.xlabel(\"delta t in sec\")\n",
    "#plt.ylabel(\"g(t)\")"
   ]
  },
  {
   "cell_type": "code",
   "execution_count": 8,
   "metadata": {
    "collapsed": false
   },
   "outputs": [
    {
     "data": {
      "text/plain": [
       "<matplotlib.text.Text at 0x266c2119be0>"
      ]
     },
     "execution_count": 8,
     "metadata": {},
     "output_type": "execute_result"
    },
    {
     "data": {
      "image/png": "[encoded data removed]",
      "text/plain": [
       "<matplotlib.figure.Figure at 0x266c0447a90>"
      ]
     },
     "metadata": {},
     "output_type": "display_data"
    }
   ],
   "source": [
    "plt.figure()\n",
    "plt.semilogx(timeshort,corravg)\n",
    "plt.errorbar(timeshort,corravg,yerr=corrstd,fmt=\"or\")\n",
    "plt.xscale(\"log\")\n",
    "plt.xlabel(\"delta t in sec\")\n",
    "plt.ylabel(\"g(t)\")"
   ]
  },
  {
   "cell_type": "code",
   "execution_count": null,
   "metadata": {
    "collapsed": true
   },
   "outputs": [],
   "source": []
  }
 ],
 "metadata": {
  "anaconda-cloud": {},
  "kernelspec": {
   "display_name": "Python [conda root]",
   "language": "python",
   "name": "conda-root-py"
  },
  "language_info": {
   "codemirror_mode": {
    "name": "ipython",
    "version": 3
   },
   "file_extension": ".py",
   "mimetype": "text/x-python",
   "name": "python",
   "nbconvert_exporter": "python",
   "pygments_lexer": "ipython3",
   "version": "3.5.2"
  }
 },
 "nbformat": 4,
 "nbformat_minor": 1
}
